{
 "cells": [
  {
   "cell_type": "code",
   "execution_count": 19,
   "metadata": {},
   "outputs": [],
   "source": [
    "import numpy as np\n",
    "import matplotlib.pyplot as plt\n",
    "from io import StringIO\n",
    "\n",
    "from glob import glob"
   ]
  },
  {
   "cell_type": "code",
   "execution_count": 21,
   "metadata": {},
   "outputs": [],
   "source": [
    "def makePlot(filename, data, i = 0):\n",
    "    fig, ax = plt.subplots(1)\n",
    "    x = data[:, 3*i + 2]*1e6\n",
    "    y = data[:, 3*i + 1]*1e9\n",
    "    ax.plot(x, y, lw = 1)\n",
    "    ax.invert_xaxis()\n",
    "    ax.set_xlabel(\"ZSnsr ($\\mu$m)\")\n",
    "    ax.set_ylabel(\"Defl (nm)\")\n",
    "    fig.savefig(\"Plots/%s.jpg\"%filename, dpi = 300)\n",
    "    plt.close()\n",
    "    \n",
    "    temp = np.zeros((x.shape[0], 2))\n",
    "    temp[:, 0] = x\n",
    "    temp[:, 1] = y\n",
    "    np.savetxt(\"Data/%s.csv\"%filename, temp, delimiter = \"\\t\", newline=\"\\r\\n\", header = \"ZSnsr (um)\\tDefl (nm)\")\n",
    "\n",
    "def extractByName(name):\n",
    "    with open(name) as file:\n",
    "        text = file.readlines()\n",
    "                \n",
    "    files = []\n",
    "    j = 0\n",
    "    for i in range(len(text)):\n",
    "        line = text[i]\n",
    "        if line == \"\\n\":\n",
    "            temp = \"\".join(text[j:i-1])\n",
    "            temp = temp.replace(\",\", \".\")\n",
    "            files.append(temp)\n",
    "            j = i\n",
    "            \n",
    "    for i in range(len(files)):\n",
    "        data = np.genfromtxt(StringIO(files[i]), delimiter = \"\\t\", skip_header = 1)\n",
    "        if i == 0:\n",
    "            name_line = files[i].split(\"\\n\")[0]\n",
    "        else:\n",
    "            name_line = files[i].split(\"\\n\")[1]\n",
    "            data = data[1:]\n",
    "        parts = name_line.split(\"\\t\")\n",
    "        if len(parts) == 3:\n",
    "            name = parts[0].replace(\"Raw\", \"\")\n",
    "            makePlot(name, data)\n",
    "        if len(parts) > 3:\n",
    "            n = len(parts) // 3\n",
    "            for i in range(n):\n",
    "                name = parts[3*i].replace(\"Raw\", \"\")\n",
    "                makePlot(name, data[1:], i)\n",
    "            \n",
    "# cols = [\"Raw\", \"Defl\", \"ZSnsr\"]\n"
   ]
  },
  {
   "cell_type": "code",
   "execution_count": 22,
   "metadata": {},
   "outputs": [
    {
     "name": "stdout",
     "output_type": "stream",
     "text": [
      "['fibrinaB30091Raw++.txt', 'fibrina0002Raw++.txt', 'fibrinaB10101Raw++.txt', 'fibrinaB40001Raw++.txt', 'fibrina20139Raw++.txt', 'fibrinaB20091Raw++.txt', 'fibrina30092Raw++.txt', 'fibrina40015Raw++.txt']\n"
     ]
    }
   ],
   "source": [
    "# name = \"fibrina0002Raw++.txt\"\n",
    "\n",
    "files = glob(\"*.txt\")\n",
    "\n",
    "print(files)"
   ]
  },
  {
   "cell_type": "code",
   "execution_count": null,
   "metadata": {},
   "outputs": [],
   "source": [
    "\n",
    "for file in files:\n",
    "    extractByName(file)"
   ]
  },
  {
   "cell_type": "code",
   "execution_count": 15,
   "metadata": {},
   "outputs": [],
   "source": []
  },
  {
   "cell_type": "code",
   "execution_count": 16,
   "metadata": {},
   "outputs": [],
   "source": []
  },
  {
   "cell_type": "code",
   "execution_count": null,
   "metadata": {},
   "outputs": [],
   "source": []
  }
 ],
 "metadata": {
  "kernelspec": {
   "display_name": "Python 3",
   "language": "python",
   "name": "python3"
  },
  "language_info": {
   "codemirror_mode": {
    "name": "ipython",
    "version": 3
   },
   "file_extension": ".py",
   "mimetype": "text/x-python",
   "name": "python",
   "nbconvert_exporter": "python",
   "pygments_lexer": "ipython3",
   "version": "3.6.6"
  }
 },
 "nbformat": 4,
 "nbformat_minor": 2
}
